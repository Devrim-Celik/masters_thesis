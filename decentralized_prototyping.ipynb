{
 "cells": [
  {
   "cell_type": "code",
   "execution_count": 128,
   "id": "aba6d931",
   "metadata": {},
   "outputs": [],
   "source": [
    "import networkx as nx\n",
    "\n",
    "from optimal_splitting.src.generate_AS_network import generate_directed_AS_graph, graph_pruning_via_BFS\n",
    "from optimal_splitting.src.auxiliary_functions import gen_pyvis_network"
   ]
  },
  {
   "cell_type": "code",
   "execution_count": 135,
   "id": "6afc9632",
   "metadata": {},
   "outputs": [],
   "source": [
    "# global params\n",
    "nr_ASes = 200\n",
    "nr_allies = 2"
   ]
  },
  {
   "cell_type": "code",
   "execution_count": 136,
   "id": "c10d24aa",
   "metadata": {},
   "outputs": [],
   "source": [
    "# graph generation\n",
    "\n",
    "G_init, victim, adversary, allies = generate_directed_AS_graph(nr_ASes, nr_allies)\n",
    "\n",
    "# prune some edges of it\n",
    "G_pruned = graph_pruning_via_BFS(G_init, victim)"
   ]
  },
  {
   "cell_type": "code",
   "execution_count": 137,
   "id": "a5e7a9c4",
   "metadata": {},
   "outputs": [
    {
     "data": {
      "text/html": [
       "\n",
       "        <iframe\n",
       "            width=\"100%\"\n",
       "            height=\"1000px\"\n",
       "            src=\"test.html\"\n",
       "            frameborder=\"0\"\n",
       "            allowfullscreen\n",
       "            \n",
       "        ></iframe>\n",
       "        "
      ],
      "text/plain": [
       "<IPython.lib.display.IFrame at 0x7f6d7111a970>"
      ]
     },
     "execution_count": 137,
     "metadata": {},
     "output_type": "execute_result"
    }
   ],
   "source": [
    "net = gen_pyvis_network(G_pruned)\n",
    "net.show(\"test.html\")"
   ]
  },
  {
   "cell_type": "code",
   "execution_count": 142,
   "id": "95c2b02e",
   "metadata": {},
   "outputs": [],
   "source": [
    "def identify_attack_flows(\n",
    "    initial_Graph:nx.classes.graph.Graph,\n",
    "    victim:int,\n",
    "    adversary:int\n",
    "    ):\n",
    "    \"\"\"\n",
    "    TODO.\n",
    "    \n",
    "    \n",
    "    :param initial_Graph: graph\n",
    "    :param victim: the victim node\n",
    "    :param adversary: the adversary node\n",
    "    \n",
    "    :type initial_Graph: nx.classes.graph.Graph\n",
    "    :type victim: int\n",
    "    :type adversary: int\n",
    "    \n",
    "    :return: a tuple containing (in order):\n",
    "        * the graph with the added flow information on nodes and edges\n",
    "        * a list of all nodes in the attack path, ordered from closes to adversary to farthest\n",
    "    :rtype: tuple\n",
    "    \"\"\"\n",
    "\n",
    "    graph = initial_Graph.copy()\n",
    "    \n",
    "    attack_flow_nodes = []\n",
    "    \n",
    "    # set a attribute denoting the path taken\n",
    "    for node_indx in graph.nodes:\n",
    "        graph.nodes[node_indx][\"AS_paths\"] = []\n",
    "    for u, v in graph.edges:\n",
    "        graph[u][v][\"AS_paths\"] = []\n",
    "\n",
    "    # start a queue\n",
    "    Q = [adversary]\n",
    "    graph.nodes[adversary][\"AS_paths\"] = [[adversary]]\n",
    "\n",
    "    while Q:\n",
    "        # get the next node\n",
    "        current_node = Q.pop(0)\n",
    "        attack_flow_nodes.append(current_node)\n",
    "        \n",
    "        # consider all its outward pointing edges\n",
    "        for u, v in graph.out_edges(current_node):\n",
    "            # note the flows that path through this note\n",
    "            graph[u][v][\"AS_paths\"] = graph.nodes[current_node][\"AS_paths\"]\n",
    "\n",
    "            # if the next node is not the victim node, then add it\n",
    "            graph.nodes[v][\"AS_paths\"].extend([path + [v] for path in graph[u][v][\"AS_paths\"]])\n",
    "            # make it unique\n",
    "            graph.nodes[v][\"AS_paths\"] = [list(x) for x in set(tuple(x) for x in graph.nodes[v][\"AS_paths\"])]\n",
    "\n",
    "            # add the node to the queue, if it is node the victim node\n",
    "            if v != victim:\n",
    "                Q.append(v)\n",
    "\n",
    "    return graph, list(set(attack_flow_nodes))\n"
   ]
  },
  {
   "cell_type": "code",
   "execution_count": 150,
   "id": "db7b1bd1",
   "metadata": {},
   "outputs": [],
   "source": [
    "G_identified, attack_flow_nodes = identify_attack_flows(G_pruned, victim, adversary)"
   ]
  },
  {
   "cell_type": "code",
   "execution_count": 151,
   "id": "5af471a0",
   "metadata": {},
   "outputs": [
    {
     "data": {
      "text/plain": [
       "[2, 5, 6, 8, 9, 12, 13, 110, 19, 23]"
      ]
     },
     "execution_count": 151,
     "metadata": {},
     "output_type": "execute_result"
    }
   ],
   "source": [
    "attack_flow_nodes"
   ]
  },
  {
   "cell_type": "code",
   "execution_count": 159,
   "id": "bb807492",
   "metadata": {},
   "outputs": [],
   "source": [
    "\n",
    "def add_shortest_distances(\n",
    "    initial_Graph:nx.classes.graph.Graph,\n",
    "    attack_flow_nodes:list,\n",
    "    allies:list\n",
    "    ):\n",
    "    \"\"\"\n",
    "    This function will calculate the shortest distance to all ally nodes from all\n",
    "    nodes that are on the attack flow and add this information as a node attribute\n",
    "    to them. Note, that this information is available to all of these nodes in the\n",
    "    AS network through the length of the AS_PATH path attribute. This information\n",
    "    is a simulation of this information.\n",
    "\n",
    "    :param initial_Graph: graph\n",
    "    :param attack_flow_nodes: a list of all nodes that are on the attack path\n",
    "    :param allies: list of all allies\n",
    "\n",
    "    :type initial_Graph: nx.classes.graph.Graph\n",
    "    :type attack_flow_nodes: list\n",
    "    :type allies: list\n",
    "\n",
    "    :return: the graph with added shortest distance information on attack path nodes\n",
    "    :rtype: nx.classes.graph.Graph\n",
    "    \"\"\"\n",
    "\n",
    "    graph = initial_Graph.copy()\n",
    "    undirected_graph = initial_Graph.to_undirected()\n",
    "\n",
    "    for attack_flow_node in attack_flow_nodes:\n",
    "        # create a dictionary for saving the shortest distances to all allies\n",
    "        distances = {}\n",
    "\n",
    "        for ally in allies:\n",
    "            # calculate the shorteset distance and note it down\n",
    "            distances[ally] = len(list(nx.all_shortest_paths(undirected_graph.to_undirected(), attack_flow_node, ally))[0])\n",
    "\n",
    "        # save this ditionary as a node attribute\n",
    "        graph.nodes[attack_flow_node][\"ally_distances\"] = distances\n",
    "\n",
    "    return graph"
   ]
  },
  {
   "cell_type": "code",
   "execution_count": 161,
   "id": "bf8960b5",
   "metadata": {},
   "outputs": [
    {
     "data": {
      "text/plain": [
       "[174, 37]"
      ]
     },
     "execution_count": 161,
     "metadata": {},
     "output_type": "execute_result"
    }
   ],
   "source": [
    "G_shortest = add_shortest_distances(G_identified, attack_flow_nodes, allies)\n",
    "allies"
   ]
  },
  {
   "cell_type": "code",
   "execution_count": 163,
   "id": "2337949b",
   "metadata": {},
   "outputs": [
    {
     "data": {
      "text/plain": [
       "{'type': 'T',\n",
       " 'color': 'darkgrey',\n",
       " 'value': 30,\n",
       " 'size': 10,\n",
       " 'AS_paths': [[110, 12, 2]],\n",
       " 'ally_distances': {174: 3, 37: 5}}"
      ]
     },
     "execution_count": 163,
     "metadata": {},
     "output_type": "execute_result"
    }
   ],
   "source": [
    "G_shortest.nodes[2]"
   ]
  },
  {
   "cell_type": "code",
   "execution_count": 164,
   "id": "05cfe4f4",
   "metadata": {},
   "outputs": [
    {
     "data": {
      "text/plain": [
       "[[2, 12, 174]]"
      ]
     },
     "execution_count": 164,
     "metadata": {},
     "output_type": "execute_result"
    }
   ],
   "source": [
    "list(nx.all_shortest_paths(G_identified.to_undirected(), 2, 174)) "
   ]
  },
  {
   "cell_type": "code",
   "execution_count": null,
   "id": "9d5fea3d",
   "metadata": {},
   "outputs": [],
   "source": []
  }
 ],
 "metadata": {
  "kernelspec": {
   "display_name": "Python 3 (ipykernel)",
   "language": "python",
   "name": "python3"
  },
  "language_info": {
   "codemirror_mode": {
    "name": "ipython",
    "version": 3
   },
   "file_extension": ".py",
   "mimetype": "text/x-python",
   "name": "python",
   "nbconvert_exporter": "python",
   "pygments_lexer": "ipython3",
   "version": "3.8.10"
  }
 },
 "nbformat": 4,
 "nbformat_minor": 5
}
