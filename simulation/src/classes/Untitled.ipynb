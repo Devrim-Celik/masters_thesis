{
 "cells": [
  {
   "cell_type": "code",
   "execution_count": 22,
   "id": "a7a68220",
   "metadata": {},
   "outputs": [],
   "source": [
    "class Test():\n",
    "    def __init__(self, arg1, arg2, t):\n",
    "        self.arg1 = arg1\n",
    "        self.arg2 = arg2\n",
    "        \n"
   ]
  },
  {
   "cell_type": "code",
   "execution_count": 24,
   "id": "15add130",
   "metadata": {},
   "outputs": [],
   "source": [
    "t = Test(1,2,3 )"
   ]
  },
  {
   "cell_type": "code",
   "execution_count": 31,
   "id": "693c193b",
   "metadata": {},
   "outputs": [],
   "source": [
    "class Test2(Test):\n",
    "    def __init__(self, *args, **kwargs):\n",
    "        super().__init__(*args)\n"
   ]
  },
  {
   "cell_type": "code",
   "execution_count": 32,
   "id": "f36f8a7e",
   "metadata": {},
   "outputs": [],
   "source": [
    "t2 = Test2(4, 2, {\"a\":5})"
   ]
  },
  {
   "cell_type": "code",
   "execution_count": 34,
   "id": "7982c3fd",
   "metadata": {},
   "outputs": [
    {
     "data": {
      "text/plain": [
       "{'arg1': 4, 'arg2': 2}"
      ]
     },
     "execution_count": 34,
     "metadata": {},
     "output_type": "execute_result"
    }
   ],
   "source": [
    "vars(t2)"
   ]
  },
  {
   "cell_type": "code",
   "execution_count": null,
   "id": "8b8aabb7",
   "metadata": {},
   "outputs": [],
   "source": []
  }
 ],
 "metadata": {
  "kernelspec": {
   "display_name": "Python 3 (ipykernel)",
   "language": "python",
   "name": "python3"
  },
  "language_info": {
   "codemirror_mode": {
    "name": "ipython",
    "version": 3
   },
   "file_extension": ".py",
   "mimetype": "text/x-python",
   "name": "python",
   "nbconvert_exporter": "python",
   "pygments_lexer": "ipython3",
   "version": "3.8.10"
  }
 },
 "nbformat": 4,
 "nbformat_minor": 5
}
